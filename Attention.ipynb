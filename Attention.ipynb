{
 "cells": [
  {
   "cell_type": "code",
   "execution_count": 1,
   "metadata": {},
   "outputs": [],
   "source": [
    "import torch\n",
    "import torch.nn as nn\n",
    "from torch.autograd import Variable\n",
    "from torch import optim\n",
    "import torch.nn.functional as F\n",
    "use_cuda = torch.cuda.is_available()"
   ]
  },
  {
   "cell_type": "code",
   "execution_count": 2,
   "metadata": {},
   "outputs": [],
   "source": [
    "def read_vocab(src):\n",
    "    return {w:i for i,w in enumerate(open(src).read().splitlines())}"
   ]
  },
  {
   "cell_type": "code",
   "execution_count": 14,
   "metadata": {},
   "outputs": [],
   "source": [
    "en_vocab_src = \"./Data/vocab.en.txt\"\n",
    "vi_vocab_src = \"./Data/vocab.vi.txt\"\n",
    "train_en_src = \"./Data/train.en.txt\"\n",
    "train_vi_src = \"./Data/train.vi.txt\"\n",
    "valid_en_src = \"./Data/valid.en.txt\"\n",
    "valid_vi_src = \"./Data/valid.vi.txt\"\n",
    "\n",
    "source_vocab = read_vocab(en_vocab_src)\n",
    "target_vocab = read_vocab(vi_vocab_src)\n",
    "MAX_LEN = 100 # \n"
   ]
  },
  {
   "cell_type": "code",
   "execution_count": 15,
   "metadata": {},
   "outputs": [],
   "source": [
    "# import pdb\n",
    "# s_data = open(valid_en_src, \"rb\")\n",
    "# for l in s_data:\n",
    "#     print(l.split())\n",
    "    "
   ]
  },
  {
   "cell_type": "code",
   "execution_count": 16,
   "metadata": {},
   "outputs": [],
   "source": [
    "def data_iterator(s_src, t_src, s_vocab, t_vocab, max_sent_len=MAX_LEN, batch_size=1):\n",
    "    s_data = open(s_src, \"r\")\n",
    "    t_data = open(t_src, \"r\")\n",
    "    f = lambda x: Variable(torch.LongTensor(x).view(1,-1))\n",
    "    out_source, out_target, len_source, len_target = [], [], [], []\n",
    "    batch_idx = 0\n",
    "    for i, (s_line, t_line) in enumerate(zip(s_data, t_data)):\n",
    "        if i - batch_idx >= batch_size:\n",
    "            yield out_source, out_target, len_source, len_target\n",
    "            out_source, out_target, len_source, len_target = [], [], [], []\n",
    "            batch_idx = i\n",
    "        a_source = [ s_vocab[w] if w in s_vocab else s_vocab[\"<unk>\"] \n",
    "                      for w in s_line.replace(\"\\n\", \"\").split(\" \")][:max_sent_len] ## could do reverse the input\n",
    "        a_target = [ t_vocab[w] if w in t_vocab else t_vocab[\"<unk>\"] \n",
    "                      for w in t_line.replace(\"/n\", \"</s>\").split()]\n",
    "        a_target.insert(0,t_vocab[\"<s>\"])\n",
    "        out_source.append(f(a_source))\n",
    "        out_target.append(f(a_target))\n",
    "        if (i+1)%batch_size == 0:\n",
    "            yield (out_source), (out_target), len_source, len_target\n",
    "            \n",
    "            "
   ]
  },
  {
   "cell_type": "code",
   "execution_count": 17,
   "metadata": {},
   "outputs": [],
   "source": [
    "# data = data_iterator(valid_en_src, valid_vi_src,source_vocab, target_vocab)\n",
    "# for d, s,_,_ in data:\n",
    "#     print(d)\n",
    "#     print(\"source len:\", len(d))\n",
    "#     print(\"target len:\", len(s))"
   ]
  },
  {
   "cell_type": "code",
   "execution_count": 52,
   "metadata": {},
   "outputs": [],
   "source": [
    "class EncoderRNN(nn.Module):\n",
    "    def __init__(self, input_size, hidden_size, num_layers=1, bidirectional=False):\n",
    "        super(EncoderRNN, self).__init__()\n",
    "        self.hidden_size = hidden_size\n",
    "        self.num_layers = num_layers\n",
    "        self.bi = bidirectional\n",
    "        self.embedding = nn.Embedding(input_size, hidden_size)\n",
    "        self.gru = nn.GRU(hidden_size, hidden_size, num_layers = num_layers, bidirectional = self.bi)\n",
    "\n",
    "    def forward(self, input, hidden=None):\n",
    "        embedded = self.embedding(input).view(1,1,-1)\n",
    "        output = embedded\n",
    "#         pdb.set_trace()\n",
    "        output, hidden = self.gru(output, hidden)\n",
    "        if self.bi:\n",
    "            pdb.set_trace()\n",
    "            output = (output[:,:,:self.hidden_size]+\n",
    "                      output[:,:,self.hidden_size:]) ##? why sum up\n",
    "        return output, hidden\n",
    "    def initHidden(self):\n",
    "        direction = 2 if self.bi else 1\n",
    "        result = Variable(torch.zeros(self.num_layers*direction, 1, self.hidden_size))\n",
    "        if use_cuda:\n",
    "            return result.cuda()\n",
    "        else:\n",
    "            return result"
   ]
  },
  {
   "cell_type": "code",
   "execution_count": 53,
   "metadata": {},
   "outputs": [],
   "source": [
    "class DecoderRNN(nn.Module):\n",
    "    def __init__(self, hidden_size, output_size, num_layers=1):\n",
    "        super(DecoderRNN, self).__init__()\n",
    "        self.hidden_size = hidden_size\n",
    "        self.num_layers = num_layers\n",
    "        self.embedding = nn.Embedding(output_size, hidden_size)\n",
    "        self.gru = nn.GRU(hidden_size, hidden_size)\n",
    "        self.out = nn.Linear(hidden_size, output_size)\n",
    "        self.softmax = nn.LogSoftmax(dim=1)\n",
    "\n",
    "    def forward(self, input, hidden):\n",
    "        output = self.embedding(input).view(1,1,-1)\n",
    "        output = F.relu(output)\n",
    "#         print(output.size())\n",
    "        output, hidden = self.gru(output, hidden)\n",
    "        output = self.softmax(self.out(output[0]))\n",
    "        return output, hidden\n",
    "\n",
    "    def initHidden(self):\n",
    "        result = Variable(torch.zeros(self.num_layers, 1, self.hidden_size))\n",
    "        if use_cuda:\n",
    "            return result.cuda()\n",
    "        else:\n",
    "            return result"
   ]
  },
  {
   "cell_type": "code",
   "execution_count": 56,
   "metadata": {},
   "outputs": [],
   "source": [
    "def train(encoder, decoder, learning_rate=0.01):\n",
    "    encoder_opt = optim.SGD(encoder.parameters(), lr=learning_rate)\n",
    "    decoder_opt = optim.SGD(decoder.parameters(), lr=learning_rate)\n",
    "    data = data_iterator(valid_en_src, valid_vi_src,source_vocab, target_vocab)\n",
    "    total = 0\n",
    "    for source, target, _, _ in data:\n",
    "        for s, t in zip(source, target):\n",
    "            s = s.view(-1)\n",
    "            t = t.view(-1)\n",
    "            encoder_hidden = encoder.initHidden()\n",
    "\n",
    "            encoder_opt.zero_grad()\n",
    "            decoder_opt.zero_grad()\n",
    "\n",
    "            source_len = s.size()[0]\n",
    "            target_len = t.size()[0]\n",
    "            \n",
    "            encoder_outputs = Variable(torch.zeros(MAX_LEN, encoder.hidden_size))\n",
    "            encoder_output = None\n",
    "            \n",
    "            loss = 0\n",
    "            criterion = nn.NLLLoss()\n",
    "            \n",
    "            for en_i in range(source_len):\n",
    "                encoder_output, encoder_hidden = encoder(s[en_i], encoder_hidden)\n",
    "                encoder_outputs[en_i] = encoder_output[0][0]\n",
    "            \n",
    "            decoder_hidden = encoder_hidden\n",
    "            \n",
    "            for de_i in range(target_len):\n",
    "                decoder_output, decoder_hidden = decoder(t[de_i], decoder_hidden)\n",
    "                pdb.set_trace()\n",
    "                loss += criterion(decoder_output, t[de_i]) # need 2D of output\n",
    "            loss.backward()\n",
    "            \n",
    "            encoder_opt.step()\n",
    "            decoder_opt.step()\n",
    "            total += target_len\n",
    "    return loss.data[0]/target_len\n",
    "            \n",
    "            "
   ]
  },
  {
   "cell_type": "code",
   "execution_count": null,
   "metadata": {},
   "outputs": [],
   "source": []
  },
  {
   "cell_type": "code",
   "execution_count": 57,
   "metadata": {},
   "outputs": [
    {
     "name": "stdout",
     "output_type": "stream",
     "text": [
      "> <ipython-input-56-bc67f37e2ce4>(32)train()\n",
      "-> loss += criterion(decoder_output, t[de_i])\n",
      "(Pdb) decoder_output\n",
      "Variable containing:\n",
      "-8.9754 -8.7584 -9.0226  ...  -8.8632 -8.9784 -8.9368\n",
      "[torch.FloatTensor of size 1x7709]\n",
      "\n",
      "(Pdb) c\n",
      "> <ipython-input-56-bc67f37e2ce4>(31)train()\n",
      "-> pdb.set_trace()\n",
      "(Pdb) c\n",
      "> <ipython-input-56-bc67f37e2ce4>(32)train()\n",
      "-> loss += criterion(decoder_output, t[de_i])\n",
      "(Pdb) c\n",
      "> <ipython-input-56-bc67f37e2ce4>(31)train()\n",
      "-> pdb.set_trace()\n",
      "(Pdb) c\n",
      "> <ipython-input-56-bc67f37e2ce4>(32)train()\n",
      "-> loss += criterion(decoder_output, t[de_i])\n",
      "(Pdb) c\n",
      "> <ipython-input-56-bc67f37e2ce4>(31)train()\n",
      "-> pdb.set_trace()\n",
      "(Pdb) c\n",
      "> <ipython-input-56-bc67f37e2ce4>(32)train()\n",
      "-> loss += criterion(decoder_output, t[de_i])\n",
      "(Pdb) c\n",
      "> <ipython-input-56-bc67f37e2ce4>(31)train()\n",
      "-> pdb.set_trace()\n",
      "(Pdb) c\n",
      "> <ipython-input-56-bc67f37e2ce4>(32)train()\n",
      "-> loss += criterion(decoder_output, t[de_i])\n",
      "(Pdb) c\n",
      "> <ipython-input-56-bc67f37e2ce4>(31)train()\n",
      "-> pdb.set_trace()\n",
      "(Pdb) c\n",
      "> <ipython-input-56-bc67f37e2ce4>(32)train()\n",
      "-> loss += criterion(decoder_output, t[de_i])\n",
      "(Pdb) c\n",
      "8.965286254882812\n"
     ]
    }
   ],
   "source": [
    "### Training\n",
    "import pdb\n",
    "hidden_size = 256\n",
    "encoder = EncoderRNN(len(source_vocab), hidden_size)\n",
    "decoder = DecoderRNN(hidden_size, len(target_vocab))\n",
    "print(train(encoder, decoder))\n",
    "\n"
   ]
  },
  {
   "cell_type": "code",
   "execution_count": null,
   "metadata": {},
   "outputs": [],
   "source": []
  }
 ],
 "metadata": {
  "kernelspec": {
   "display_name": "Python [conda env:python3]",
   "language": "python",
   "name": "conda-env-python3-py"
  },
  "language_info": {
   "codemirror_mode": {
    "name": "ipython",
    "version": 3
   },
   "file_extension": ".py",
   "mimetype": "text/x-python",
   "name": "python",
   "nbconvert_exporter": "python",
   "pygments_lexer": "ipython3",
   "version": "3.6.1"
  }
 },
 "nbformat": 4,
 "nbformat_minor": 2
}
